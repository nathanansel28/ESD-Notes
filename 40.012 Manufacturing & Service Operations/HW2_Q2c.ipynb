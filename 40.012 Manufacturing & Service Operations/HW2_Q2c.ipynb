{
 "cells": [
  {
   "cell_type": "code",
   "execution_count": 1,
   "metadata": {},
   "outputs": [],
   "source": [
    "using JuMP, GLPK\n",
    "using DataFrames, CSV, XLSX"
   ]
  },
  {
   "cell_type": "code",
   "execution_count": 2,
   "metadata": {},
   "outputs": [
    {
     "data": {
      "text/html": [
       "<div><div style = \"float: left;\"><span>12×3 DataFrame</span></div><div style = \"clear: both;\"></div></div><div class = \"data-frame\" style = \"overflow-x: scroll;\"><table class = \"data-frame\" style = \"margin-bottom: 6px;\"><thead><tr class = \"header\"><th class = \"rowNumber\" style = \"font-weight: bold; text-align: right;\">Row</th><th style = \"text-align: left;\">t</th><th style = \"text-align: left;\">n</th><th style = \"text-align: left;\">D</th></tr><tr class = \"subheader headerLastRow\"><th class = \"rowNumber\" style = \"font-weight: bold; text-align: right;\"></th><th title = \"Int64\" style = \"text-align: left;\">Int64</th><th title = \"Int64\" style = \"text-align: left;\">Int64</th><th title = \"Int64\" style = \"text-align: left;\">Int64</th></tr></thead><tbody><tr><td class = \"rowNumber\" style = \"font-weight: bold; text-align: right;\">1</td><td style = \"text-align: right;\">1</td><td style = \"text-align: right;\">26</td><td style = \"text-align: right;\">1050</td></tr><tr><td class = \"rowNumber\" style = \"font-weight: bold; text-align: right;\">2</td><td style = \"text-align: right;\">2</td><td style = \"text-align: right;\">24</td><td style = \"text-align: right;\">1260</td></tr><tr><td class = \"rowNumber\" style = \"font-weight: bold; text-align: right;\">3</td><td style = \"text-align: right;\">3</td><td style = \"text-align: right;\">20</td><td style = \"text-align: right;\">510</td></tr><tr><td class = \"rowNumber\" style = \"font-weight: bold; text-align: right;\">4</td><td style = \"text-align: right;\">4</td><td style = \"text-align: right;\">18</td><td style = \"text-align: right;\">980</td></tr><tr><td class = \"rowNumber\" style = \"font-weight: bold; text-align: right;\">5</td><td style = \"text-align: right;\">5</td><td style = \"text-align: right;\">22</td><td style = \"text-align: right;\">770</td></tr><tr><td class = \"rowNumber\" style = \"font-weight: bold; text-align: right;\">6</td><td style = \"text-align: right;\">6</td><td style = \"text-align: right;\">23</td><td style = \"text-align: right;\">850</td></tr><tr><td class = \"rowNumber\" style = \"font-weight: bold; text-align: right;\">7</td><td style = \"text-align: right;\">7</td><td style = \"text-align: right;\">14</td><td style = \"text-align: right;\">1050</td></tr><tr><td class = \"rowNumber\" style = \"font-weight: bold; text-align: right;\">8</td><td style = \"text-align: right;\">8</td><td style = \"text-align: right;\">21</td><td style = \"text-align: right;\">1550</td></tr><tr><td class = \"rowNumber\" style = \"font-weight: bold; text-align: right;\">9</td><td style = \"text-align: right;\">9</td><td style = \"text-align: right;\">23</td><td style = \"text-align: right;\">1350</td></tr><tr><td class = \"rowNumber\" style = \"font-weight: bold; text-align: right;\">10</td><td style = \"text-align: right;\">10</td><td style = \"text-align: right;\">24</td><td style = \"text-align: right;\">1000</td></tr><tr><td class = \"rowNumber\" style = \"font-weight: bold; text-align: right;\">11</td><td style = \"text-align: right;\">11</td><td style = \"text-align: right;\">21</td><td style = \"text-align: right;\">970</td></tr><tr><td class = \"rowNumber\" style = \"font-weight: bold; text-align: right;\">12</td><td style = \"text-align: right;\">12</td><td style = \"text-align: right;\">13</td><td style = \"text-align: right;\">680</td></tr></tbody></table></div>"
      ],
      "text/latex": [
       "\\begin{tabular}{r|ccc}\n",
       "\t& t & n & D\\\\\n",
       "\t\\hline\n",
       "\t& Int64 & Int64 & Int64\\\\\n",
       "\t\\hline\n",
       "\t1 & 1 & 26 & 1050 \\\\\n",
       "\t2 & 2 & 24 & 1260 \\\\\n",
       "\t3 & 3 & 20 & 510 \\\\\n",
       "\t4 & 4 & 18 & 980 \\\\\n",
       "\t5 & 5 & 22 & 770 \\\\\n",
       "\t6 & 6 & 23 & 850 \\\\\n",
       "\t7 & 7 & 14 & 1050 \\\\\n",
       "\t8 & 8 & 21 & 1550 \\\\\n",
       "\t9 & 9 & 23 & 1350 \\\\\n",
       "\t10 & 10 & 24 & 1000 \\\\\n",
       "\t11 & 11 & 21 & 970 \\\\\n",
       "\t12 & 12 & 13 & 680 \\\\\n",
       "\\end{tabular}\n"
      ],
      "text/plain": [
       "\u001b[1m12×3 DataFrame\u001b[0m\n",
       "\u001b[1m Row \u001b[0m│\u001b[1m t     \u001b[0m\u001b[1m n     \u001b[0m\u001b[1m D     \u001b[0m\n",
       "     │\u001b[90m Int64 \u001b[0m\u001b[90m Int64 \u001b[0m\u001b[90m Int64 \u001b[0m\n",
       "─────┼─────────────────────\n",
       "   1 │     1     26   1050\n",
       "   2 │     2     24   1260\n",
       "   3 │     3     20    510\n",
       "   4 │     4     18    980\n",
       "   5 │     5     22    770\n",
       "   6 │     6     23    850\n",
       "   7 │     7     14   1050\n",
       "   8 │     8     21   1550\n",
       "   9 │     9     23   1350\n",
       "  10 │    10     24   1000\n",
       "  11 │    11     21    970\n",
       "  12 │    12     13    680"
      ]
     },
     "metadata": {},
     "output_type": "display_data"
    },
    {
     "name": "stdout",
     "output_type": "stream",
     "text": [
      "[26, 24, 20, 18, 22, 23, 14, 21, 23, 24, 21, 13]"
     ]
    }
   ],
   "source": [
    "df = DataFrame(CSV.File(\"Homework 2 Q2c data.csv\"))\n",
    "display(df)\n",
    "n = df[:, :n]\n",
    "D = df[:, :D]\n",
    "print(n)"
   ]
  },
  {
   "cell_type": "markdown",
   "metadata": {},
   "source": [
    "# Version 1"
   ]
  },
  {
   "cell_type": "code",
   "execution_count": 3,
   "metadata": {},
   "outputs": [
    {
     "name": "stdout",
     "output_type": "stream",
     "text": [
      "* Solver : GLPK\n",
      "\n",
      "* Status\n",
      "  Result count       : 1\n",
      "  Termination status : OPTIMAL\n",
      "  Message from the solver:\n",
      "  \"Solution is optimal\"\n",
      "\n",
      "* Candidate solution (result #1)\n",
      "  Primal status      : FEASIBLE_POINT\n",
      "  Dual status        : FEASIBLE_POINT\n",
      "  Objective value    : 1.61520e+04\n",
      "  Objective bound    : -Inf\n",
      "  Dual objective value : 1.61520e+04\n",
      "\n",
      "* Work counters\n",
      "  Solve time (sec)   : 0.00000e+00\n",
      "\n",
      "Objective Value: 16151.97762970014\n"
     ]
    }
   ],
   "source": [
    "m = Model(GLPK.Optimizer)\n",
    "T = 12\n",
    "c_I = 0.10\n",
    "c_H = 100\n",
    "c_F = 200\n",
    "K = 0.308\n",
    "\n",
    "@variable(m, H[1:T] >= 0)\n",
    "@variable(m, F[1:T] >= 0)\n",
    "@variable(m, I[0:T] >= 0)\n",
    "@variable(m, W[0:T] >= 0) \n",
    "@variable(m, P[1:T] >= 0)\n",
    "\n",
    "@objective(m, Min, sum(c_H*H[t] + c_F*F[t] + c_I*I[t] for t in 1:T))\n",
    "\n",
    "for t in 1:T\n",
    "    @constraint(m, W[t] == W[t-1] + H[t] - F[t]);\n",
    "    @constraint(m, I[t] == P[t] - D[t] + I[t-1]);\n",
    "    @constraint(m, P[t] == K * n[t] * W[t]);\n",
    "end\n",
    "@constraint(m, I[0] == 200);\n",
    "@constraint(m, W[0] == 0);\n",
    "\n",
    "optimize!(m)\n",
    "\n",
    "println(solution_summary(m))\n",
    "println(\"Objective Value: \", objective_value(m))\n"
   ]
  },
  {
   "cell_type": "code",
   "execution_count": 5,
   "metadata": {},
   "outputs": [
    {
     "name": "stdout",
     "output_type": "stream",
     "text": [
      "H: [155.8781532603522, 0.0, 0.0, 0.0, 0.0, 0.0, 0.0, 0.0, 0.0, 0.0, 0.0, 0.0]\n",
      "F: [0.0, 0.0, 0.0, 0.0, 0.0, 0.0, 0.0, 0.0, 0.0, 0.0, 0.0, 0.0]\n",
      "I: 1-dimensional DenseAxisArray{Float64,1,...} with index sets:\n",
      "    Dimension 1, 0:12\n",
      "And data, a 13-element Vector{Float64}:\n",
      "  200.0\n",
      "  398.2722513089003\n",
      "  290.52356020942386\n",
      "  740.7329842931935\n",
      "  624.9214659685865\n",
      "  911.1518324607331\n",
      " 1165.3926701570686\n",
      "  787.5392670157069\n",
      "  245.7591623036649\n",
      "    0.0\n",
      "  152.25130890052378\n",
      "  190.47120418848206\n",
      "  134.60732984293224\n",
      "\n",
      "W: 1-dimensional DenseAxisArray{Float64,1,...} with index sets:\n",
      "    Dimension 1, 0:12\n",
      "And data, a 13-element Vector{Float64}:\n",
      "   0.0\n",
      " 155.8781532603522\n",
      " 155.8781532603522\n",
      " 155.8781532603522\n",
      " 155.8781532603522\n",
      " 155.8781532603522\n",
      " 155.8781532603522\n",
      " 155.8781532603522\n",
      " 155.8781532603522\n",
      " 155.8781532603522\n",
      " 155.8781532603522\n",
      " 155.8781532603522\n",
      " 155.8781532603522\n",
      "P: [1248.2722513089004, 1152.2513089005233, 960.2094240837696, 864.1884816753926, 1056.2303664921465, 1104.240837696335, 672.1465968586388, 1008.219895287958, 1104.240837696335, 1152.2513089005233, 1008.219895287958, 624.1361256544502]\n"
     ]
    }
   ],
   "source": [
    "println(\"H: \", value.(H))\n",
    "println(\"F: \", value.(F))\n",
    "println(\"I: \", value.(I))\n",
    "println(\"\")\n",
    "println(\"W: \", value.(W))\n",
    "println(\"P: \", value.(P))"
   ]
  },
  {
   "cell_type": "code",
   "execution_count": null,
   "metadata": {},
   "outputs": [],
   "source": [
    "objective_value(m)"
   ]
  },
  {
   "cell_type": "code",
   "execution_count": null,
   "metadata": {},
   "outputs": [],
   "source": [
    "println(value.(H))\n",
    "println(value.(F))\n",
    "println(value.(I))\n",
    "println(\"\")\n",
    "println(value.(W))\n",
    "println(value.(P))"
   ]
  },
  {
   "cell_type": "code",
   "execution_count": null,
   "metadata": {},
   "outputs": [],
   "source": [
    "results_df = DataFrame(\n",
    "    H = value.(H),\n",
    "    F = value.(F),\n",
    "    I = value.(I),\n",
    "    W = value.(W),\n",
    "    P = value.(P),\n",
    ")\n",
    "\n",
    "println(results_df)\n",
    "CSV.write(\"2c LP results new.csv\", results_df)"
   ]
  },
  {
   "cell_type": "markdown",
   "metadata": {},
   "source": [
    "# Version 2"
   ]
  },
  {
   "cell_type": "code",
   "execution_count": 7,
   "metadata": {},
   "outputs": [
    {
     "name": "stdout",
     "output_type": "stream",
     "text": [
      "* Solver : GLPK\n",
      "\n",
      "* Status\n",
      "  Result count       : 1\n",
      "  Termination status : OPTIMAL\n",
      "  Message from the solver:\n",
      "  \"Solution is optimal\"\n",
      "\n",
      "* Candidate solution (result #1)\n",
      "  Primal status      : FEASIBLE_POINT\n",
      "  Dual status        : NO_SOLUTION\n",
      "  Objective value    : 1.61705e+04\n",
      "  Objective bound    : 1.61705e+04\n",
      "  Relative gap       : 4.48889e-04\n",
      "\n",
      "* Work counters\n",
      "  Solve time (sec)   : 0.00000e+00\n",
      "\n",
      "Objective Value: 16170.478400000033\n"
     ]
    }
   ],
   "source": [
    "m = Model(GLPK.Optimizer)\n",
    "T = 12\n",
    "c_I = 0.10\n",
    "c_H = 100\n",
    "c_F = 200\n",
    "K = 0.308\n",
    "\n",
    "@variable(m, H[1:T] >= 0, Int)\n",
    "@variable(m, F[1:T] >= 0, Int)\n",
    "@variable(m, I[0:T] >= 0)\n",
    "@variable(m, W[0:T] >= 0, Int) \n",
    "@variable(m, P[1:T] >= 0)\n",
    "\n",
    "@objective(m, Min, sum(c_H*H[t] + c_F*F[t] + c_I*I[t] for t in 1:T))\n",
    "\n",
    "for t in 1:T\n",
    "    @constraint(m, W[t] == W[t-1] + H[t] - F[t]);\n",
    "    @constraint(m, I[t] == P[t] - D[t] + I[t-1]);\n",
    "    @constraint(m, P[t] == K * n[t] * W[t]);\n",
    "end\n",
    "@constraint(m, I[0] == 200);\n",
    "@constraint(m, W[0] == 0);\n",
    "\n",
    "optimize!(m)\n",
    "\n",
    "println(solution_summary(m))\n",
    "println(\"Objective Value: \", objective_value(m))\n"
   ]
  },
  {
   "cell_type": "code",
   "execution_count": null,
   "metadata": {},
   "outputs": [],
   "source": [
    "optimize!(m)    "
   ]
  },
  {
   "cell_type": "code",
   "execution_count": null,
   "metadata": {},
   "outputs": [],
   "source": [
    "solution_summary(m)"
   ]
  },
  {
   "cell_type": "code",
   "execution_count": null,
   "metadata": {},
   "outputs": [],
   "source": [
    "println(objective_value(m))\n",
    "println(value.(H))\n",
    "println(value.(F))\n",
    "println(value.(I))\n",
    "println(value.(W))\n",
    "println(value.(P))"
   ]
  },
  {
   "cell_type": "code",
   "execution_count": null,
   "metadata": {},
   "outputs": [],
   "source": [
    "results_df = DataFrame(\n",
    "    H = value.(H),\n",
    "    F = value.(F),\n",
    "    I = value.(I),\n",
    "    W = value.(W),\n",
    "    P = value.(P),\n",
    ")\n",
    "\n",
    "println(results_df)\n",
    "CSV.write(\"2c MILP results.csv\", results_df)"
   ]
  }
 ],
 "metadata": {
  "kernelspec": {
   "display_name": "Julia 1.10.0",
   "language": "julia",
   "name": "julia-1.10"
  },
  "language_info": {
   "file_extension": ".jl",
   "mimetype": "application/julia",
   "name": "julia",
   "version": "1.10.0"
  }
 },
 "nbformat": 4,
 "nbformat_minor": 2
}
