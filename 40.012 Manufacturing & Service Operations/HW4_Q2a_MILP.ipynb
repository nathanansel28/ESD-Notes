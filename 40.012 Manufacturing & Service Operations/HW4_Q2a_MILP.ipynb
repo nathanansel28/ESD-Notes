{
 "cells": [
  {
   "cell_type": "code",
   "execution_count": 1,
   "metadata": {},
   "outputs": [],
   "source": [
    "using JuMP, GLPK\n",
    "using DataFrames, CSV, XLSX"
   ]
  },
  {
   "cell_type": "markdown",
   "metadata": {},
   "source": [
    "### Question 2a"
   ]
  },
  {
   "cell_type": "code",
   "execution_count": 5,
   "metadata": {},
   "outputs": [
    {
     "name": "stdout",
     "output_type": "stream",
     "text": [
      "* Solver : GLPK\n",
      "\n",
      "* Status\n",
      "  Result count       : 1\n",
      "  Termination status : OPTIMAL\n",
      "  Message from the solver:\n",
      "  \"Solution is optimal\"\n",
      "\n",
      "* Candidate solution (result #1)\n",
      "  Primal status      : FEASIBLE_POINT\n",
      "  Dual status        : NO_SOLUTION\n",
      "  Objective value    : 2.95000e+02\n",
      "  Objective bound    : 2.95000e+02\n",
      "  Relative gap       : 3.27458e-03\n",
      "\n",
      "* Work counters\n",
      "  Solve time (sec)   : 1.09999e-02\n",
      "\n",
      "I: 1-dimensional DenseAxisArray{Float64,1,...} with index sets:\n",
      "    Dimension 1, 0:12\n",
      "And data, a 13-element Vector{Float64}:\n",
      "  4.0\n",
      " 16.0\n",
      "  4.0\n",
      "  0.0\n",
      " 15.0\n",
      "  0.0\n",
      " 25.0\n",
      "  5.0\n",
      "  0.0\n",
      " 25.0\n",
      "  5.0\n",
      "  0.0\n",
      "  8.0\n",
      "\n",
      "P: [18.0, 0.0, 0.0, 23.0, 0.0, 50.0, 0.0, 0.0, 35.0, 0.0, 0.0, 20.0]\n",
      "d: [1.0, 0.0, 0.0, 1.0, 0.0, 1.0, 0.0, 0.0, 1.0, 0.0, 0.0, 1.0]\n"
     ]
    }
   ],
   "source": [
    "using GLPK\n",
    "m = Model(GLPK.Optimizer)\n",
    "\n",
    "# PARAMETERS\n",
    "T = 12                                  # number of months\n",
    "K = 40                                  # order setup cost\n",
    "D = [6,12,4,8,15,25,20,5,10,20,5,12]    # unadjusted demand\n",
    "M = 100000                              # daily production capacity \n",
    "c_I = 1                                 # inventory holding cost\n",
    "\n",
    "# DECISION VARIABLES\n",
    "@variable(m, I[0:T] >= 0)               # inventory in month t\n",
    "@variable(m, P[1:T] >= 0)               # production in month t\n",
    "@variable(m, d[1:T] >= 0, Bin)          # d=1 if an order is placed in month t\n",
    "\n",
    "# CONSTRAINTS\n",
    "for t in 1:T\n",
    "    @constraint(m, I[t] == P[t] - D[t] + I[t-1]);\n",
    "    @constraint(m, P[t] <= d[t]*M);\n",
    "end\n",
    "@constraint(m, I[0] == 4);\n",
    "@constraint(m, I[12] == 8);\n",
    "\n",
    "# OBJECTIVE FUNCTION\n",
    "@objective(m, Min, sum(K*d[t] for t in 1:T) + sum(c_I*I[t] for t in 1:(T-1)))\n",
    "\n",
    "# RESULTS\n",
    "optimize!(m)\n",
    "println(solution_summary(m))\n",
    "println(\"I: \", value.(I))\n",
    "println(\"\")\n",
    "println(\"P: \", value.(P))\n",
    "println(\"d: \", value.(d))"
   ]
  },
  {
   "cell_type": "markdown",
   "metadata": {},
   "source": [
    "### Question 2b"
   ]
  },
  {
   "cell_type": "code",
   "execution_count": 18,
   "metadata": {},
   "outputs": [
    {
     "name": "stdout",
     "output_type": "stream",
     "text": [
      "* Solver : GLPK\n",
      "\n",
      "* Status\n",
      "  Result count       : 1\n",
      "  Termination status : OPTIMAL\n",
      "  Message from the solver:\n",
      "  \"Solution is optimal\"\n",
      "\n",
      "* Candidate solution (result #1)\n",
      "  Primal status      : FEASIBLE_POINT\n",
      "  Dual status        : NO_SOLUTION\n",
      "  Objective value    : 2.99000e+02\n",
      "  Objective bound    : 2.99000e+02\n",
      "  Relative gap       : 1.33779e-02\n",
      "\n",
      "* Work counters\n",
      "  Solve time (sec)   : 2.00009e-03\n",
      "\n",
      "I: 1-dimensional DenseAxisArray{Float64,1,...} with index sets:\n",
      "    Dimension 1, 0:12\n",
      "And data, a 13-element Vector{Float64}:\n",
      "  4.0\n",
      " 24.0\n",
      " 12.0\n",
      "  8.0\n",
      "  0.0\n",
      " 25.0\n",
      "  0.0\n",
      " 15.0\n",
      " 10.0\n",
      "  0.0\n",
      "  5.0\n",
      "  0.0\n",
      "  0.0\n",
      "\n",
      "P: [26.0, 0.0, 0.0, 0.0, 40.0, 0.0, 35.0, 0.0, 0.0, 25.0, 0.0, 20.0]\n",
      "d: [1.0, 0.0, 0.0, 0.0, 1.0, 0.0, 1.0, 0.0, 0.0, 1.0, 0.0, 1.0]\n"
     ]
    }
   ],
   "source": [
    "using JuMP\n",
    "using GLPK\n",
    "m = Model(GLPK.Optimizer)\n",
    "\n",
    "# PARAMETERS\n",
    "T = 12                                  # number of months\n",
    "K = 40                                  # order setup cost\n",
    "D = [6,12,4,8,15,25,20,5,10,20,5,20]    # unadjusted demand\n",
    "M = 40                                  # daily production capacity \n",
    "c_I = 1                                 # inventory holding cost\n",
    "\n",
    "# DECISION VARIABLES\n",
    "@variable(m, I[0:T] >= 0)               # inventory in month t\n",
    "@variable(m, P[1:T] >= 0)               # production in month t\n",
    "@variable(m, d[1:T] >= 0, Bin)          # d=1 if an order is placed in month t\n",
    "\n",
    "# CONSTRAINTS\n",
    "for t in 1:T\n",
    "    @constraint(m, I[t] == P[t] - D[t] + I[t-1]);\n",
    "    @constraint(m, P[t] <= d[t]*M);\n",
    "end\n",
    "@constraint(m, I[0] == 4);\n",
    "# @constraint(m, I[12] == 8);\n",
    "\n",
    "# OBJECTIVE FUNCTION\n",
    "@objective(m, Min, sum(K*d[t] for t in 1:T) + sum(c_I*I[t] for t in 1:(T)))\n",
    "\n",
    "# RESULTS\n",
    "optimize!(m)\n",
    "println(solution_summary(m))\n",
    "println(\"I: \", value.(I))\n",
    "println(\"\")\n",
    "println(\"P: \", value.(P))\n",
    "println(\"d: \", value.(d))"
   ]
  },
  {
   "cell_type": "code",
   "execution_count": 10,
   "metadata": {},
   "outputs": [
    {
     "name": "stdout",
     "output_type": "stream",
     "text": [
      "MOSEK error 2950 (MSK_RES_ERR_NO_DUAL_FOR_ITG_SOL): No dual information is available for the integer solution.\n",
      "* Solver : Mosek\n",
      "\n",
      "* Status\n",
      "  Result count       : 1\n",
      "  Termination status : OPTIMAL\n",
      "  Message from the solver:\n",
      "  \"Mosek.MSK_SOL_STA_INTEGER_OPTIMAL\"\n",
      "\n",
      "* Candidate solution (result #1)\n",
      "  Primal status      : FEASIBLE_POINT\n",
      "  Dual status        : NO_SOLUTION\n",
      "  Objective value    : 2.99000e+02\n",
      "  Objective bound    : 2.99000e+02\n",
      "  Relative gap       : 0.00000e+00\n",
      "\n",
      "* Work counters\n",
      "  Solve time (sec)   : 1.56000e-01\n",
      "  Simplex iterations : 27\n",
      "  Barrier iterations : 5\n",
      "  Node count         : 0\n",
      "\n"
     ]
    }
   ],
   "source": [
    "println(solution_summary(m))"
   ]
  }
 ],
 "metadata": {
  "kernelspec": {
   "display_name": "Julia 1.10.0",
   "language": "julia",
   "name": "julia-1.10"
  },
  "language_info": {
   "file_extension": ".jl",
   "mimetype": "application/julia",
   "name": "julia",
   "version": "1.10.0"
  }
 },
 "nbformat": 4,
 "nbformat_minor": 2
}
